{
 "cells": [
  {
   "cell_type": "code",
   "execution_count": 194,
   "metadata": {},
   "outputs": [],
   "source": [
    "import pandas as pd\n",
    "import matplotlib.pyplot as plt"
   ]
  },
  {
   "cell_type": "code",
   "execution_count": 195,
   "metadata": {},
   "outputs": [
    {
     "name": "stderr",
     "output_type": "stream",
     "text": [
      "C:\\Users\\Kamlesh\\AppData\\Roaming\\Python\\Python36\\site-packages\\ipykernel_launcher.py:1: ParserWarning: Falling back to the 'python' engine because the 'c' engine does not support regex separators (separators > 1 char and different from '\\s+' are interpreted as regex); you can avoid this warning by specifying engine='python'.\n",
      "  \"\"\"Entry point for launching an IPython kernel.\n"
     ]
    }
   ],
   "source": [
    "data=pd.read_csv('trapezoidalRuleOutput_csv_Q1.txt',sep='\\t\\t')"
   ]
  },
  {
   "cell_type": "code",
   "execution_count": 196,
   "metadata": {},
   "outputs": [
    {
     "data": {
      "text/html": [
       "<div>\n",
       "<style scoped>\n",
       "    .dataframe tbody tr th:only-of-type {\n",
       "        vertical-align: middle;\n",
       "    }\n",
       "\n",
       "    .dataframe tbody tr th {\n",
       "        vertical-align: top;\n",
       "    }\n",
       "\n",
       "    .dataframe thead th {\n",
       "        text-align: right;\n",
       "    }\n",
       "</style>\n",
       "<table border=\"1\" class=\"dataframe\">\n",
       "  <thead>\n",
       "    <tr style=\"text-align: right;\">\n",
       "      <th></th>\n",
       "      <th>S.No.</th>\n",
       "      <th>a</th>\n",
       "      <th>b</th>\n",
       "      <th>Actual Area</th>\n",
       "      <th>Area Est.</th>\n",
       "      <th>Division(n)</th>\n",
       "      <th>Max-Error</th>\n",
       "      <th>Error</th>\n",
       "      <th>max[a,b]f''(x)</th>\n",
       "    </tr>\n",
       "  </thead>\n",
       "  <tbody>\n",
       "    <tr>\n",
       "      <th>0</th>\n",
       "      <td>1</td>\n",
       "      <td>1</td>\n",
       "      <td>2</td>\n",
       "      <td>34.4667</td>\n",
       "      <td>44.0000</td>\n",
       "      <td>1</td>\n",
       "      <td>16.333300</td>\n",
       "      <td>9.533330</td>\n",
       "      <td>196</td>\n",
       "    </tr>\n",
       "    <tr>\n",
       "      <th>1</th>\n",
       "      <td>2</td>\n",
       "      <td>1</td>\n",
       "      <td>2</td>\n",
       "      <td>34.4667</td>\n",
       "      <td>36.8750</td>\n",
       "      <td>2</td>\n",
       "      <td>4.083330</td>\n",
       "      <td>2.408330</td>\n",
       "      <td>196</td>\n",
       "    </tr>\n",
       "    <tr>\n",
       "      <th>2</th>\n",
       "      <td>3</td>\n",
       "      <td>1</td>\n",
       "      <td>2</td>\n",
       "      <td>34.4667</td>\n",
       "      <td>35.5391</td>\n",
       "      <td>3</td>\n",
       "      <td>1.814810</td>\n",
       "      <td>1.072430</td>\n",
       "      <td>196</td>\n",
       "    </tr>\n",
       "    <tr>\n",
       "      <th>3</th>\n",
       "      <td>4</td>\n",
       "      <td>1</td>\n",
       "      <td>2</td>\n",
       "      <td>34.4667</td>\n",
       "      <td>35.0703</td>\n",
       "      <td>4</td>\n",
       "      <td>1.020830</td>\n",
       "      <td>0.603646</td>\n",
       "      <td>196</td>\n",
       "    </tr>\n",
       "    <tr>\n",
       "      <th>4</th>\n",
       "      <td>5</td>\n",
       "      <td>1</td>\n",
       "      <td>2</td>\n",
       "      <td>34.4667</td>\n",
       "      <td>34.8531</td>\n",
       "      <td>5</td>\n",
       "      <td>0.653333</td>\n",
       "      <td>0.386453</td>\n",
       "      <td>196</td>\n",
       "    </tr>\n",
       "  </tbody>\n",
       "</table>\n",
       "</div>"
      ],
      "text/plain": [
       "   S.No.  a  b  Actual Area  Area Est.  Division(n)  Max-Error     Error  \\\n",
       "0      1  1  2      34.4667    44.0000            1  16.333300  9.533330   \n",
       "1      2  1  2      34.4667    36.8750            2   4.083330  2.408330   \n",
       "2      3  1  2      34.4667    35.5391            3   1.814810  1.072430   \n",
       "3      4  1  2      34.4667    35.0703            4   1.020830  0.603646   \n",
       "4      5  1  2      34.4667    34.8531            5   0.653333  0.386453   \n",
       "\n",
       "   max[a,b]f''(x)  \n",
       "0             196  \n",
       "1             196  \n",
       "2             196  \n",
       "3             196  \n",
       "4             196  "
      ]
     },
     "execution_count": 196,
     "metadata": {},
     "output_type": "execute_result"
    }
   ],
   "source": [
    "data.head()"
   ]
  },
  {
   "cell_type": "code",
   "execution_count": 197,
   "metadata": {},
   "outputs": [],
   "source": [
    "Error=data['Error']\n",
    "Division=data['Division(n)']"
   ]
  },
  {
   "cell_type": "code",
   "execution_count": 198,
   "metadata": {},
   "outputs": [
    {
     "data": {
      "image/png": "[encoded data removed]",
      "text/plain": [
       "<Figure size 576x288 with 1 Axes>"
      ]
     },
     "metadata": {},
     "output_type": "display_data"
    }
   ],
   "source": [
    "plt.figure(figsize=(8,4))\n",
    "plt.xlabel(\"Division (n)\")\n",
    "plt.ylabel(\"Error\")\n",
    "plt.xlim(0,50)\n",
    "plt.title(\"Trapezoidal rule: Q1 [4x^4+2x^2+5]\")\n",
    "plt.grid(True,color='black',linewidth=1)\n",
    "plt.plot(Division,Error,color='red')\n",
    "plt.show()"
   ]
  },
  {
   "cell_type": "code",
   "execution_count": 199,
   "metadata": {},
   "outputs": [
    {
     "name": "stderr",
     "output_type": "stream",
     "text": [
      "C:\\Users\\Kamlesh\\AppData\\Roaming\\Python\\Python36\\site-packages\\ipykernel_launcher.py:1: ParserWarning: Falling back to the 'python' engine because the 'c' engine does not support regex separators (separators > 1 char and different from '\\s+' are interpreted as regex); you can avoid this warning by specifying engine='python'.\n",
      "  \"\"\"Entry point for launching an IPython kernel.\n"
     ]
    }
   ],
   "source": [
    "data=pd.read_csv('trapezoidalRuleOutput_csv_Q2.txt',sep='\\t\\t')"
   ]
  },
  {
   "cell_type": "code",
   "execution_count": 200,
   "metadata": {},
   "outputs": [
    {
     "data": {
      "text/html": [
       "<div>\n",
       "<style scoped>\n",
       "    .dataframe tbody tr th:only-of-type {\n",
       "        vertical-align: middle;\n",
       "    }\n",
       "\n",
       "    .dataframe tbody tr th {\n",
       "        vertical-align: top;\n",
       "    }\n",
       "\n",
       "    .dataframe thead th {\n",
       "        text-align: right;\n",
       "    }\n",
       "</style>\n",
       "<table border=\"1\" class=\"dataframe\">\n",
       "  <thead>\n",
       "    <tr style=\"text-align: right;\">\n",
       "      <th></th>\n",
       "      <th>S.No.</th>\n",
       "      <th>a</th>\n",
       "      <th>b</th>\n",
       "      <th>Actual Area</th>\n",
       "      <th>Area Est.</th>\n",
       "      <th>Division(n)</th>\n",
       "      <th>Max-Error</th>\n",
       "      <th>Error</th>\n",
       "      <th>max[a,b]f''(x)</th>\n",
       "    </tr>\n",
       "  </thead>\n",
       "  <tbody>\n",
       "    <tr>\n",
       "      <th>0</th>\n",
       "      <td>1</td>\n",
       "      <td>2</td>\n",
       "      <td>5</td>\n",
       "      <td>176.25</td>\n",
       "      <td>223.500</td>\n",
       "      <td>1</td>\n",
       "      <td>67.48650</td>\n",
       "      <td>47.25000</td>\n",
       "      <td>29.994</td>\n",
       "    </tr>\n",
       "    <tr>\n",
       "      <th>1</th>\n",
       "      <td>2</td>\n",
       "      <td>2</td>\n",
       "      <td>5</td>\n",
       "      <td>176.25</td>\n",
       "      <td>188.062</td>\n",
       "      <td>2</td>\n",
       "      <td>16.87160</td>\n",
       "      <td>11.81250</td>\n",
       "      <td>29.994</td>\n",
       "    </tr>\n",
       "    <tr>\n",
       "      <th>2</th>\n",
       "      <td>3</td>\n",
       "      <td>2</td>\n",
       "      <td>5</td>\n",
       "      <td>176.25</td>\n",
       "      <td>181.500</td>\n",
       "      <td>3</td>\n",
       "      <td>7.49850</td>\n",
       "      <td>5.25000</td>\n",
       "      <td>29.994</td>\n",
       "    </tr>\n",
       "    <tr>\n",
       "      <th>3</th>\n",
       "      <td>4</td>\n",
       "      <td>2</td>\n",
       "      <td>5</td>\n",
       "      <td>176.25</td>\n",
       "      <td>179.203</td>\n",
       "      <td>4</td>\n",
       "      <td>4.21791</td>\n",
       "      <td>2.95312</td>\n",
       "      <td>29.994</td>\n",
       "    </tr>\n",
       "    <tr>\n",
       "      <th>4</th>\n",
       "      <td>5</td>\n",
       "      <td>2</td>\n",
       "      <td>5</td>\n",
       "      <td>176.25</td>\n",
       "      <td>178.140</td>\n",
       "      <td>5</td>\n",
       "      <td>2.69946</td>\n",
       "      <td>1.89000</td>\n",
       "      <td>29.994</td>\n",
       "    </tr>\n",
       "  </tbody>\n",
       "</table>\n",
       "</div>"
      ],
      "text/plain": [
       "   S.No.  a  b  Actual Area  Area Est.  Division(n)  Max-Error     Error  \\\n",
       "0      1  2  5       176.25    223.500            1   67.48650  47.25000   \n",
       "1      2  2  5       176.25    188.062            2   16.87160  11.81250   \n",
       "2      3  2  5       176.25    181.500            3    7.49850   5.25000   \n",
       "3      4  2  5       176.25    179.203            4    4.21791   2.95312   \n",
       "4      5  2  5       176.25    178.140            5    2.69946   1.89000   \n",
       "\n",
       "   max[a,b]f''(x)  \n",
       "0          29.994  \n",
       "1          29.994  \n",
       "2          29.994  \n",
       "3          29.994  \n",
       "4          29.994  "
      ]
     },
     "execution_count": 200,
     "metadata": {},
     "output_type": "execute_result"
    }
   ],
   "source": [
    "data.head()"
   ]
  },
  {
   "cell_type": "code",
   "execution_count": 201,
   "metadata": {},
   "outputs": [
    {
     "data": {
      "image/png": "[encoded data removed]",
      "text/plain": [
       "<Figure size 576x288 with 1 Axes>"
      ]
     },
     "metadata": {},
     "output_type": "display_data"
    }
   ],
   "source": [
    "Error=data['Error']\n",
    "Division=data['Division(n)']\n",
    "plt.figure(figsize=(8,4))\n",
    "plt.title(\"Trapezoidal rule Q2: [x^3+2x+1]\")\n",
    "plt.xlabel(\"Division (n)\")\n",
    "plt.xlim(0,50)\n",
    "plt.ylabel(\"Error\")\n",
    "plt.grid(True,color='black',linewidth=1)\n",
    "plt.plot(Division,Error,color='red')\n",
    "plt.show()"
   ]
  },
  {
   "cell_type": "markdown",
   "metadata": {},
   "source": [
    "Simpson's Rule"
   ]
  },
  {
   "cell_type": "code",
   "execution_count": 202,
   "metadata": {},
   "outputs": [
    {
     "name": "stderr",
     "output_type": "stream",
     "text": [
      "C:\\Users\\Kamlesh\\AppData\\Roaming\\Python\\Python36\\site-packages\\ipykernel_launcher.py:1: ParserWarning: Falling back to the 'python' engine because the 'c' engine does not support regex separators (separators > 1 char and different from '\\s+' are interpreted as regex); you can avoid this warning by specifying engine='python'.\n",
      "  \"\"\"Entry point for launching an IPython kernel.\n"
     ]
    }
   ],
   "source": [
    "data=pd.read_csv('simpsonsRuleOutput_csv_Q1.txt',sep='\\t\\t')"
   ]
  },
  {
   "cell_type": "code",
   "execution_count": 203,
   "metadata": {},
   "outputs": [
    {
     "data": {
      "text/html": [
       "<div>\n",
       "<style scoped>\n",
       "    .dataframe tbody tr th:only-of-type {\n",
       "        vertical-align: middle;\n",
       "    }\n",
       "\n",
       "    .dataframe tbody tr th {\n",
       "        vertical-align: top;\n",
       "    }\n",
       "\n",
       "    .dataframe thead th {\n",
       "        text-align: right;\n",
       "    }\n",
       "</style>\n",
       "<table border=\"1\" class=\"dataframe\">\n",
       "  <thead>\n",
       "    <tr style=\"text-align: right;\">\n",
       "      <th></th>\n",
       "      <th>S.No.</th>\n",
       "      <th>a</th>\n",
       "      <th>b</th>\n",
       "      <th>Actual Area</th>\n",
       "      <th>Area Est.</th>\n",
       "      <th>Division(n)</th>\n",
       "      <th>Max-Error</th>\n",
       "      <th>Error</th>\n",
       "      <th>max[a,b]f''(x)</th>\n",
       "    </tr>\n",
       "  </thead>\n",
       "  <tbody>\n",
       "    <tr>\n",
       "      <th>0</th>\n",
       "      <td>1</td>\n",
       "      <td>1</td>\n",
       "      <td>2</td>\n",
       "      <td>34.4667</td>\n",
       "      <td>34.5000</td>\n",
       "      <td>2</td>\n",
       "      <td>0.0333</td>\n",
       "      <td>0.0333</td>\n",
       "      <td>96.0</td>\n",
       "    </tr>\n",
       "    <tr>\n",
       "      <th>1</th>\n",
       "      <td>2</td>\n",
       "      <td>1</td>\n",
       "      <td>2</td>\n",
       "      <td>34.4667</td>\n",
       "      <td>34.4688</td>\n",
       "      <td>4</td>\n",
       "      <td>0.0021</td>\n",
       "      <td>0.0021</td>\n",
       "      <td>96.0</td>\n",
       "    </tr>\n",
       "    <tr>\n",
       "      <th>2</th>\n",
       "      <td>3</td>\n",
       "      <td>1</td>\n",
       "      <td>2</td>\n",
       "      <td>34.4667</td>\n",
       "      <td>34.4671</td>\n",
       "      <td>6</td>\n",
       "      <td>0.0004</td>\n",
       "      <td>0.0004</td>\n",
       "      <td>96.0</td>\n",
       "    </tr>\n",
       "    <tr>\n",
       "      <th>3</th>\n",
       "      <td>4</td>\n",
       "      <td>1</td>\n",
       "      <td>2</td>\n",
       "      <td>34.4667</td>\n",
       "      <td>34.4668</td>\n",
       "      <td>8</td>\n",
       "      <td>0.0001</td>\n",
       "      <td>0.0001</td>\n",
       "      <td>96.0</td>\n",
       "    </tr>\n",
       "    <tr>\n",
       "      <th>4</th>\n",
       "      <td>5</td>\n",
       "      <td>1</td>\n",
       "      <td>2</td>\n",
       "      <td>34.4667</td>\n",
       "      <td>34.4667</td>\n",
       "      <td>10</td>\n",
       "      <td>0.0001</td>\n",
       "      <td>0.0001</td>\n",
       "      <td>96.0</td>\n",
       "    </tr>\n",
       "  </tbody>\n",
       "</table>\n",
       "</div>"
      ],
      "text/plain": [
       "   S.No.  a  b  Actual Area  Area Est.  Division(n)  Max-Error   Error  \\\n",
       "0      1  1  2      34.4667    34.5000            2     0.0333  0.0333   \n",
       "1      2  1  2      34.4667    34.4688            4     0.0021  0.0021   \n",
       "2      3  1  2      34.4667    34.4671            6     0.0004  0.0004   \n",
       "3      4  1  2      34.4667    34.4668            8     0.0001  0.0001   \n",
       "4      5  1  2      34.4667    34.4667           10     0.0001  0.0001   \n",
       "\n",
       "   max[a,b]f''(x)  \n",
       "0            96.0  \n",
       "1            96.0  \n",
       "2            96.0  \n",
       "3            96.0  \n",
       "4            96.0  "
      ]
     },
     "execution_count": 203,
     "metadata": {},
     "output_type": "execute_result"
    }
   ],
   "source": [
    "data.head()"
   ]
  },
  {
   "cell_type": "code",
   "execution_count": 204,
   "metadata": {},
   "outputs": [
    {
     "data": {
      "image/png": "[encoded data removed]",
      "text/plain": [
       "<Figure size 576x288 with 1 Axes>"
      ]
     },
     "metadata": {},
     "output_type": "display_data"
    }
   ],
   "source": [
    "Error=data['Error']\n",
    "Division=data['Division(n)']\n",
    "plt.figure(figsize=(8,4))\n",
    "plt.title(\"Simpson's rule Q1 : [4x^4+2x^2+5]\")\n",
    "plt.xlabel(\"Division (n)\")\n",
    "plt.ylabel(\"Error \")\n",
    "plt.xlim(0,50)\n",
    "#plt.ylim(0.001,1)\n",
    "plt.grid(True,color='black',linewidth=1)\n",
    "plt.plot(Division,Error,color='red')\n",
    "plt.show()"
   ]
  },
  {
   "cell_type": "code",
   "execution_count": 205,
   "metadata": {},
   "outputs": [
    {
     "name": "stderr",
     "output_type": "stream",
     "text": [
      "C:\\Users\\Kamlesh\\AppData\\Roaming\\Python\\Python36\\site-packages\\ipykernel_launcher.py:1: ParserWarning: Falling back to the 'python' engine because the 'c' engine does not support regex separators (separators > 1 char and different from '\\s+' are interpreted as regex); you can avoid this warning by specifying engine='python'.\n",
      "  \"\"\"Entry point for launching an IPython kernel.\n"
     ]
    }
   ],
   "source": [
    "data=pd.read_csv('simpsonsRuleOutput_csv_Q2.txt',sep='\\t\\t')"
   ]
  },
  {
   "cell_type": "code",
   "execution_count": 206,
   "metadata": {},
   "outputs": [
    {
     "data": {
      "text/html": [
       "<div>\n",
       "<style scoped>\n",
       "    .dataframe tbody tr th:only-of-type {\n",
       "        vertical-align: middle;\n",
       "    }\n",
       "\n",
       "    .dataframe tbody tr th {\n",
       "        vertical-align: top;\n",
       "    }\n",
       "\n",
       "    .dataframe thead th {\n",
       "        text-align: right;\n",
       "    }\n",
       "</style>\n",
       "<table border=\"1\" class=\"dataframe\">\n",
       "  <thead>\n",
       "    <tr style=\"text-align: right;\">\n",
       "      <th></th>\n",
       "      <th>S.No.</th>\n",
       "      <th>a</th>\n",
       "      <th>b</th>\n",
       "      <th>Actual Area</th>\n",
       "      <th>Area Est.</th>\n",
       "      <th>Division(n)</th>\n",
       "      <th>Max-Error</th>\n",
       "      <th>Error</th>\n",
       "      <th>max[a,b]f''(x)</th>\n",
       "    </tr>\n",
       "  </thead>\n",
       "  <tbody>\n",
       "    <tr>\n",
       "      <th>0</th>\n",
       "      <td>1</td>\n",
       "      <td>2</td>\n",
       "      <td>5</td>\n",
       "      <td>176.25</td>\n",
       "      <td>176.25</td>\n",
       "      <td>2</td>\n",
       "      <td>0.0</td>\n",
       "      <td>0.0</td>\n",
       "      <td>0.0</td>\n",
       "    </tr>\n",
       "    <tr>\n",
       "      <th>1</th>\n",
       "      <td>2</td>\n",
       "      <td>2</td>\n",
       "      <td>5</td>\n",
       "      <td>176.25</td>\n",
       "      <td>176.25</td>\n",
       "      <td>4</td>\n",
       "      <td>0.0</td>\n",
       "      <td>0.0</td>\n",
       "      <td>0.0</td>\n",
       "    </tr>\n",
       "    <tr>\n",
       "      <th>2</th>\n",
       "      <td>3</td>\n",
       "      <td>2</td>\n",
       "      <td>5</td>\n",
       "      <td>176.25</td>\n",
       "      <td>176.25</td>\n",
       "      <td>6</td>\n",
       "      <td>0.0</td>\n",
       "      <td>0.0</td>\n",
       "      <td>0.0</td>\n",
       "    </tr>\n",
       "    <tr>\n",
       "      <th>3</th>\n",
       "      <td>4</td>\n",
       "      <td>2</td>\n",
       "      <td>5</td>\n",
       "      <td>176.25</td>\n",
       "      <td>176.25</td>\n",
       "      <td>8</td>\n",
       "      <td>0.0</td>\n",
       "      <td>0.0</td>\n",
       "      <td>0.0</td>\n",
       "    </tr>\n",
       "    <tr>\n",
       "      <th>4</th>\n",
       "      <td>5</td>\n",
       "      <td>2</td>\n",
       "      <td>5</td>\n",
       "      <td>176.25</td>\n",
       "      <td>176.25</td>\n",
       "      <td>10</td>\n",
       "      <td>0.0</td>\n",
       "      <td>-0.0</td>\n",
       "      <td>0.0</td>\n",
       "    </tr>\n",
       "  </tbody>\n",
       "</table>\n",
       "</div>"
      ],
      "text/plain": [
       "   S.No.  a  b  Actual Area  Area Est.  Division(n)  Max-Error  Error  \\\n",
       "0      1  2  5       176.25     176.25            2        0.0    0.0   \n",
       "1      2  2  5       176.25     176.25            4        0.0    0.0   \n",
       "2      3  2  5       176.25     176.25            6        0.0    0.0   \n",
       "3      4  2  5       176.25     176.25            8        0.0    0.0   \n",
       "4      5  2  5       176.25     176.25           10        0.0   -0.0   \n",
       "\n",
       "   max[a,b]f''(x)  \n",
       "0             0.0  \n",
       "1             0.0  \n",
       "2             0.0  \n",
       "3             0.0  \n",
       "4             0.0  "
      ]
     },
     "execution_count": 206,
     "metadata": {},
     "output_type": "execute_result"
    }
   ],
   "source": [
    "data.head()"
   ]
  },
  {
   "cell_type": "code",
   "execution_count": 207,
   "metadata": {},
   "outputs": [],
   "source": [
    "Error=data['Error'][1:10]\n",
    "Division=data['Division(n)'][1:10]"
   ]
  },
  {
   "cell_type": "code",
   "execution_count": 208,
   "metadata": {},
   "outputs": [
    {
     "data": {
      "image/png": "[encoded data removed]",
      "text/plain": [
       "<Figure size 576x288 with 1 Axes>"
      ]
     },
     "metadata": {},
     "output_type": "display_data"
    }
   ],
   "source": [
    "plt.figure(figsize=(8,4))\n",
    "plt.title(\"Simpson's rule Q2 : [x^3+2x+1]\")\n",
    "plt.xlabel(\"Division (n)\")\n",
    "plt.ylabel(\"Error \")\n",
    "#plt.xlim(0,2)\n",
    "#plt.ylim(0.001,1)\n",
    "plt.grid(True,color='black',linewidth=1)\n",
    "plt.plot(Division,Error,color='red')\n",
    "plt.show()"
   ]
  },
  {
   "cell_type": "code",
   "execution_count": null,
   "metadata": {},
   "outputs": [],
   "source": []
  }
 ],
 "metadata": {
  "kernelspec": {
   "display_name": "Python 3",
   "language": "python",
   "name": "python3"
  },
  "language_info": {
   "codemirror_mode": {
    "name": "ipython",
    "version": 3
   },
   "file_extension": ".py",
   "mimetype": "text/x-python",
   "name": "python",
   "nbconvert_exporter": "python",
   "pygments_lexer": "ipython3",
   "version": "3.6.8"
  }
 },
 "nbformat": 4,
 "nbformat_minor": 2
}
